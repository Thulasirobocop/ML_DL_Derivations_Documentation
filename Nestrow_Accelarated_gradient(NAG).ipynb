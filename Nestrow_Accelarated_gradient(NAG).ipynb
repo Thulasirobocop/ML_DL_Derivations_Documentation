{
  "nbformat": 4,
  "nbformat_minor": 0,
  "metadata": {
    "colab": {
      "name": "Nestrow_Accelarated_gradient(NAG).ipynb",
      "provenance": [],
      "authorship_tag": "ABX9TyP2a60s/YzFYkm7Ulc7YWDe",
      "include_colab_link": true
    },
    "kernelspec": {
      "name": "python3",
      "display_name": "Python 3"
    },
    "language_info": {
      "name": "python"
    }
  },
  "cells": [
    {
      "cell_type": "markdown",
      "metadata": {
        "id": "view-in-github",
        "colab_type": "text"
      },
      "source": [
        "<a href=\"https://colab.research.google.com/github/Thulasirobocop/ML_DL_Derivations_Documentation/blob/main/Nestrow_Accelarated_gradient(NAG).ipynb\" target=\"_parent\"><img src=\"https://colab.research.google.com/assets/colab-badge.svg\" alt=\"Open In Colab\"/></a>"
      ]
    },
    {
      "cell_type": "markdown",
      "metadata": {
        "id": "b3KDWI0laJ39"
      },
      "source": [
        "\n",
        "#<bold>NESTROW ACCELARATED GRADIENT</bold>"
      ]
    },
    {
      "cell_type": "markdown",
      "metadata": {
        "id": "GFyWKnZz2Dcg"
      },
      "source": [
        "##Founder: Yuri Newstrow in 1983.\n"
      ]
    },
    {
      "cell_type": "markdown",
      "metadata": {
        "id": "9pwWUBcjbR7o"
      },
      "source": [
        "The goal is to optimize some parameters, θ. This is going to involve gradient descent, so we will be evaluating the gradient of an objective function of those parameters, ∇f(θ), and moving a certain distance in the direction of the negative of the gradient, the distance being related to the learning rate, ε. There will also be a momentum term involved, with momentum coefficient μ. The value of the parameters, learning rate and momentum at iteration t will be indicated by a subscript, e.g. θt.\n",
        "\n",
        "A definition which holds across all the methods discussed here is that the parameters at iteration t+1 are related to the parameters at iteration t by an update that involves the addition of a velocity vector, v:\n",
        "\n",
        "θt+1=θt+vt+1⟹vt+1=θt+1−θt\n",
        "\n",
        "\n",
        "Source: <a href=\"https://jlmelville.github.io/mize/nesterov.html#:~:text=The%20Nesterov%20Accelerated%20Gradient%20method%20consists%20of%20a,momentum.%20I%E2%80%99ll%20call%20it%20a%20%E2%80%9Cmomentum%20stage%E2%80%9D%20here.\" >Click Here</a>\n",
        "\n",
        "###Simply, Nestrow Optimization is faster than  momentum optimization"
      ]
    },
    {
      "cell_type": "markdown",
      "metadata": {
        "id": "y5og5Q6O-WzO"
      },
      "source": [
        "It calculates gradient slightly ahead in the direction of momentum as below"
      ]
    },
    {
      "cell_type": "markdown",
      "metadata": {
        "id": "1B5Dsb3U-K0Z"
      },
      "source": [
        "$${(\\Theta -\\beta n)}$$ \n",
        "$${(or)}$$\n",
        "$${(W-\\beta m)}$$\n",
        "\n",
        "##Algorithm :\n",
        "$${m=\\beta m+\\eta (\\partial C/\\partial W)}$$\n",
        "###where, \n",
        "$$W={(W-\\beta m)}$$\n",
        "\n"
      ]
    },
    {
      "cell_type": "markdown",
      "metadata": {
        "id": "pkoR6KL2493O"
      },
      "source": [
        "observing Gradient Descent,\n",
        "\n",
        "$$Wnew=Wold+-\\eta(\\partial C/\\partial W)$$\n",
        "Where, $$ W=Wold$$\n",
        "$$$$\n",
        "$$$$\n",
        "$$\\begin{bmatrix}W1\\\\W2\\\\b1\\\\b2\\end{bmatrix}=\n",
        "\\begin{bmatrix}W1\\\\W2\\\\b1\\\\b2\\end{bmatrix} - \\eta\n",
        "\\begin{bmatrix}\\partial C/\\partial W1\\\\\n",
        "\\partial C/\\partial W2\\\\\n",
        "\\partial C/\\partial b1\\\\\n",
        "\\partial C/\\partial b2\\end{bmatrix}$$"
      ]
    },
    {
      "cell_type": "code",
      "metadata": {
        "colab": {
          "base_uri": "https://localhost:8080/",
          "height": 296
        },
        "id": "wl1eCjeCxwAv",
        "outputId": "3937f150-65a2-4e89-e2f2-3723cd19b44c"
      },
      "source": [
        "import matplotlib.pyplot as plt\n",
        "import numpy as np \n",
        "x=np.linspace(-2,2,5000)\n",
        "\n",
        "x1 = np.array([0,0.6,1.2,1.8])\n",
        "my_xticks = [0,'W2','W1','W0']\n",
        "plt.xticks(x1, my_xticks)\n",
        "y=x**2\n",
        "plt.plot(x,y)\n",
        "plt.fill_between(x, y,where = (x > x1[2]) & (x <= x1[3]), color='#ff000000', alpha=0.7)\n",
        "plt.xlabel(\"W\")\n",
        "plt.ylabel(\"y=C(W)\")\n"
      ],
      "execution_count": 1,
      "outputs": [
        {
          "output_type": "execute_result",
          "data": {
            "text/plain": [
              "Text(0, 0.5, 'y=C(W)')"
            ]
          },
          "metadata": {
            "tags": []
          },
          "execution_count": 1
        },
        {
          "output_type": "display_data",
          "data": {
            "image/png": "[encoded data removed]",
            "text/plain": [
              "<Figure size 432x288 with 1 Axes>"
            ]
          },
          "metadata": {
            "tags": [],
            "needs_background": "light"
          }
        }
      ]
    },
    {
      "cell_type": "markdown",
      "metadata": {
        "id": "_RyhmKEmBHpv"
      },
      "source": [
        "######WKT,\n",
        "$$m1=\\beta m0+\\eta (\\partial C/\\partial W)$$\n",
        "where      $$W=(W0)$$"
      ]
    },
    {
      "cell_type": "markdown",
      "metadata": {
        "id": "nrPZ5gpJuVVL"
      },
      "source": [
        "Applying 1 in 2 we get,\n",
        "\n",
        "\n",
        "##Step 1:\n",
        "$$\n",
        "m0=0$$\n",
        "$$W=W0$$\n",
        "$$\\beta=0.9$$\n",
        "Assuming bias as 0 we get,\n",
        "\n",
        "\n",
        "$$m1=\\beta m0+\\eta (\\partial C/\\partial W)$$\n",
        "$$where,      W=(W0-\\beta m0)$$\n",
        "\n",
        "Hence we get,\n",
        "$$m1=\\eta (\\partial C/\\partial W)$$\n",
        "$$where,      W=(W0)$$\n",
        "\n",
        "\n",
        "Finally,\n",
        "$$W1=W0-\\eta(\\partial C/\\partial W0)$$"
      ]
    },
    {
      "cell_type": "code",
      "metadata": {
        "colab": {
          "base_uri": "https://localhost:8080/",
          "height": 296
        },
        "id": "B_PL8xZg3-Bw",
        "outputId": "ab98e76b-44b5-48da-a4cd-7bf7193f1b07"
      },
      "source": [
        "x=np.linspace(-2,2,5000)\n",
        "x1 = np.array([0,0.6,1.2,1.8])\n",
        "my_xticks = [0,'W2','W1','W0']\n",
        "plt.xticks(x1, my_xticks)\n",
        "y=x**2\n",
        "plt.plot(x,y)\n",
        "plt.fill_between(x, y,where = (x > x1[1]) & (x <= x1[2]), color='#ff000000', alpha=0.7)\n",
        "plt.xlabel(\"W\")\n",
        "plt.ylabel(\"y=C(W)\")\n"
      ],
      "execution_count": 2,
      "outputs": [
        {
          "output_type": "execute_result",
          "data": {
            "text/plain": [
              "Text(0, 0.5, 'y=C(W)')"
            ]
          },
          "metadata": {
            "tags": []
          },
          "execution_count": 2
        },
        {
          "output_type": "display_data",
          "data": {
            "image/png": "[encoded data removed]",
            "text/plain": [
              "<Figure size 432x288 with 1 Axes>"
            ]
          },
          "metadata": {
            "tags": [],
            "needs_background": "light"
          }
        }
      ]
    },
    {
      "cell_type": "markdown",
      "metadata": {
        "id": "CZT-y90yvyii"
      },
      "source": [
        "##Step 2:\n",
        "\n",
        "$$m1=\\eta (\\partial C/\\partial W)$$\n",
        "$$where,      W=(W0)$$\n",
        "$$W=W1$$\n",
        "$$\\beta=0.9$$\n",
        "Assuming bias as 0 we get,\n",
        "\n",
        "\n",
        "$$m2=\\beta m1+\\eta (\\partial C/\\partial W)$$\n",
        "$$where,      W=(W1-\\beta m1)$$\n",
        "\n",
        "Hence we get,\n",
        "$$m2=\\beta\\eta (\\partial C/\\partial W0) + \\beta\\eta (\\partial C/\\partial W)$$\n",
        "$$where,      W=(W1-\\beta\\eta(\\partial C/\\partial W0))$$\n",
        "\n",
        "\n",
        "Finally,\n",
        "$$W2=W1-[\\beta\\eta (\\partial C/\\partial W0) + \\beta\\eta (\\partial C/\\partial W)]$$"
      ]
    },
    {
      "cell_type": "markdown",
      "metadata": {
        "id": "nzysbRt1xru-"
      },
      "source": [
        "##Advantages:\n",
        "\n",
        "<ol>\n",
        "<li>Better than optimization Technique.\n",
        "<li>Less Oscillation.\n",
        "<li>Reaches closer to local or global minima.\n",
        "</ol>\n",
        "\n",
        "##Disadvantages:\n",
        "<ol>\n",
        "<li>Extra Parameter to tune\n",
        "<li>Large time to train\n",
        "</ol>"
      ]
    },
    {
      "cell_type": "markdown",
      "metadata": {
        "id": "rWEM93TId-Bk"
      },
      "source": [
        "##Syntax:\n",
        "opt=tf.keras.optimizers.SGD(learning_rate=0..1,momentum=0.9,nesterov=True)"
      ]
    }
  ]
}